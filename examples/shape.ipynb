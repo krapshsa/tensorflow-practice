{
  "nbformat": 4,
  "nbformat_minor": 0,
  "metadata": {
    "colab": {
      "name": "shape.ipynb",
      "version": "0.3.2",
      "provenance": [],
      "collapsed_sections": [],
      "include_colab_link": true
    },
    "kernelspec": {
      "name": "python3",
      "display_name": "Python 3"
    }
  },
  "cells": [
    {
      "cell_type": "markdown",
      "metadata": {
        "id": "view-in-github",
        "colab_type": "text"
      },
      "source": [
        "[View in Colaboratory](https://colab.research.google.com/github/krapshsa/tensorflow-practice/blob/master/examples/shape.ipynb)"
      ]
    },
    {
      "metadata": {
        "id": "ZYQC8VL4UJIz",
        "colab_type": "code",
        "colab": {}
      },
      "cell_type": "code",
      "source": [
        "import tensorflow as tf\n",
        "\n",
        "sess = tf.Session()"
      ],
      "execution_count": 0,
      "outputs": []
    },
    {
      "metadata": {
        "id": "7B6eb1ZdnQIj",
        "colab_type": "code",
        "colab": {
          "base_uri": "https://localhost:8080/",
          "height": 102
        },
        "outputId": "6fe1f1b9-3e02-4ce5-8026-551700bb393f"
      },
      "cell_type": "code",
      "source": [
        "tensor1 = tf.constant(\n",
        "    [\n",
        "        [1., 1., 1.],\n",
        "        [1., 1., 1.]\n",
        "    ]\n",
        ")\n",
        "\n",
        "result1 = sess.run(tensor1)\n",
        "print(result1)\n",
        "print(tensor1.get_shape())\n",
        "print(tf.shape(result1))\n",
        "print(sess.run(tf.shape(result1)))"
      ],
      "execution_count": 46,
      "outputs": [
        {
          "output_type": "stream",
          "text": [
            "[[1. 1. 1.]\n",
            " [1. 1. 1.]]\n",
            "(2, 3)\n",
            "Tensor(\"Shape_58:0\", shape=(2,), dtype=int32)\n",
            "[2 3]\n"
          ],
          "name": "stdout"
        }
      ]
    },
    {
      "metadata": {
        "id": "KjhqytBRnF8U",
        "colab_type": "code",
        "colab": {
          "base_uri": "https://localhost:8080/",
          "height": 119
        },
        "outputId": "764a251b-51b6-4161-915f-cb859582751c"
      },
      "cell_type": "code",
      "source": [
        "tensor2 = tf.constant(\n",
        "    [\n",
        "        [1., 1.],\n",
        "        [1., 1.],\n",
        "        [1., 1.]\n",
        "    ]\n",
        ")\n",
        "result2 = sess.run(tensor2)\n",
        "print(result2)\n",
        "print(tf.shape(result2))\n",
        "print(tensor2.get_shape())\n",
        "print(sess.run(tf.shape(result2)))"
      ],
      "execution_count": 47,
      "outputs": [
        {
          "output_type": "stream",
          "text": [
            "[[1. 1.]\n",
            " [1. 1.]\n",
            " [1. 1.]]\n",
            "Tensor(\"Shape_60:0\", shape=(2,), dtype=int32)\n",
            "(3, 2)\n",
            "[3 2]\n"
          ],
          "name": "stdout"
        }
      ]
    }
  ]
}